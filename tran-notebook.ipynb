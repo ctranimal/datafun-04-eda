{
 "cells": [
  {
   "cell_type": "markdown",
   "id": "17406984",
   "metadata": {},
   "source": [
    "# CANH TRAN Notebook - Intro to Jupyter\n",
    "\n",
    "- Author: [Ken McTran](https://github.com/ctranimal )\n",
    "- Repository: [datafun-04-eda]( https://github.com/ctranimal/datafun-04-eda )\n",
    "  \n",
    "- Purpose: To practice with Markdown cells, Python cells in a ipynb notebook\n",
    "- Date: Most recently updated: 7/21/25."
   ]
  },
  {
   "cell_type": "markdown",
   "id": "2e331d32",
   "metadata": {},
   "source": [
    "## Section 1. Checklists of Done steps the 2 steps for this Project\n",
    "\n",
    "1. Done: Created a single Markdown title\n",
    "2. Done: Created a Markdown header with author/purpose/Date\n",
    "3. Done: Created a numbered section for Imports using a Markdown cell.\n",
    "4. In-progress: Create a Python cell for all import statements needed for this notebook."
   ]
  }
 ],
 "metadata": {
  "kernelspec": {
   "display_name": ".venv",
   "language": "python",
   "name": "python3"
  },
  "language_info": {
   "name": "python",
   "version": "3.13.5"
  }
 },
 "nbformat": 4,
 "nbformat_minor": 5
}
