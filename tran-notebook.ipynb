{
 "cells": [
  {
   "cell_type": "markdown",
   "id": "17406984",
   "metadata": {},
   "source": [
    "# CANH TRAN Notebook - Intro to Jupyter\n",
    "\n",
    "- Author: [Ken McTran](https://github.com/ctranimal )\n",
    "- Repository: [datafun-04-eda]( https://github.com/ctranimal/datafun-04-eda )\n",
    "  \n",
    "- Purpose: To practice with Markdown cells, Python cells in a ipynb notebook\n",
    "- Date: Most recently updated: 7/21/25."
   ]
  },
  {
   "cell_type": "markdown",
   "id": "2e331d32",
   "metadata": {},
   "source": [
    "## Step 1. Checklists of Done steps the 2 steps for this Project\n",
    "\n",
    "1. Done: Created a single Markdown title\n",
    "2. Done: Created a Markdown header with author/purpose/Date\n",
    "3. Done: Created a numbered section for Imports using a Markdown cell.\n",
    "4. Done: Create a Python cell for all import statements needed for this notebook."
   ]
  },
  {
   "cell_type": "code",
   "execution_count": 1,
   "id": "dd531aff",
   "metadata": {},
   "outputs": [
    {
     "name": "stderr",
     "output_type": "stream",
     "text": [
      "Matplotlib is building the font cache; this may take a moment.\n"
     ]
    }
   ],
   "source": [
    "# Import from external packages\n",
    "import pandas as pd\n",
    "import seaborn as sns\n",
    "import matplotlib\n",
    "\n",
    "# Axes object (basic plot type returned by Seaborn)\n",
    "from matplotlib.axes import Axes"
   ]
  }
 ],
 "metadata": {
  "kernelspec": {
   "display_name": ".venv",
   "language": "python",
   "name": "python3"
  },
  "language_info": {
   "codemirror_mode": {
    "name": "ipython",
    "version": 3
   },
   "file_extension": ".py",
   "mimetype": "text/x-python",
   "name": "python",
   "nbconvert_exporter": "python",
   "pygments_lexer": "ipython3",
   "version": "3.13.5"
  }
 },
 "nbformat": 4,
 "nbformat_minor": 5
}
