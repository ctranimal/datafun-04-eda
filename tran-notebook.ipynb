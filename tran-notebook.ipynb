{
 "cells": [
  {
   "cell_type": "markdown",
   "id": "17406984",
   "metadata": {},
   "source": [
    "# CANH TRAN Notebook - Intro to Jupyter\n",
    "\n",
    "- Author: [Ken McTran](https://github.com/ctranimal )\n",
    "- Repository: [datafun-04-eda]( https://github.com/ctranimal/datafun-04-eda )\n",
    "  \n",
    "- Purpose: To practice with Markdown cells, Python cells in a ipynb notebook\n",
    "- Date: Most recently updated: 7/21/25."
   ]
  },
  {
   "cell_type": "markdown",
   "id": "2e331d32",
   "metadata": {},
   "source": [
    "## Section 1. Checklists of Done steps the 2 steps for this Project\n",
    "\n",
    "A. Step 1\n",
    "1. Done: Created a single Markdown title\n",
    "2. Done: Created a Markdown header with author/purpose/Date\n",
    "3. Done: Created a numbered section for Imports using a Markdown cell.\n",
    "4. Done: Create a Python cell for all import statements needed for this notebook.\n",
    "   \n",
    "B. Step 2:\n",
    "1. Done: Create Load Data (python cells)"
   ]
  },
  {
   "cell_type": "code",
   "execution_count": 7,
   "id": "dd531aff",
   "metadata": {},
   "outputs": [],
   "source": [
    "# Import from external packages\n",
    "import pandas as pd\n",
    "import seaborn as sns\n",
    "import matplotlib\n",
    "\n",
    "# Axes object (basic plot type returned by Seaborn)\n",
    "from matplotlib.axes import Axes"
   ]
  },
  {
   "cell_type": "markdown",
   "id": "cd132384",
   "metadata": {},
   "source": [
    "## Section 2. Load Data for Step 2\n",
    "\n",
    "1. Done: Load the iris dataset into pandas DataFrame"
   ]
  },
  {
   "cell_type": "code",
   "execution_count": 8,
   "id": "92bec0ad",
   "metadata": {},
   "outputs": [
    {
     "data": {
      "text/html": [
       "<div>\n",
       "<style scoped>\n",
       "    .dataframe tbody tr th:only-of-type {\n",
       "        vertical-align: middle;\n",
       "    }\n",
       "\n",
       "    .dataframe tbody tr th {\n",
       "        vertical-align: top;\n",
       "    }\n",
       "\n",
       "    .dataframe thead th {\n",
       "        text-align: right;\n",
       "    }\n",
       "</style>\n",
       "<table border=\"1\" class=\"dataframe\">\n",
       "  <thead>\n",
       "    <tr style=\"text-align: right;\">\n",
       "      <th></th>\n",
       "      <th>sepal_length</th>\n",
       "      <th>sepal_width</th>\n",
       "      <th>petal_length</th>\n",
       "      <th>petal_width</th>\n",
       "      <th>species</th>\n",
       "    </tr>\n",
       "  </thead>\n",
       "  <tbody>\n",
       "    <tr>\n",
       "      <th>0</th>\n",
       "      <td>5.1</td>\n",
       "      <td>3.5</td>\n",
       "      <td>1.4</td>\n",
       "      <td>0.2</td>\n",
       "      <td>setosa</td>\n",
       "    </tr>\n",
       "    <tr>\n",
       "      <th>1</th>\n",
       "      <td>4.9</td>\n",
       "      <td>3.0</td>\n",
       "      <td>1.4</td>\n",
       "      <td>0.2</td>\n",
       "      <td>setosa</td>\n",
       "    </tr>\n",
       "    <tr>\n",
       "      <th>2</th>\n",
       "      <td>4.7</td>\n",
       "      <td>3.2</td>\n",
       "      <td>1.3</td>\n",
       "      <td>0.2</td>\n",
       "      <td>setosa</td>\n",
       "    </tr>\n",
       "    <tr>\n",
       "      <th>3</th>\n",
       "      <td>4.6</td>\n",
       "      <td>3.1</td>\n",
       "      <td>1.5</td>\n",
       "      <td>0.2</td>\n",
       "      <td>setosa</td>\n",
       "    </tr>\n",
       "    <tr>\n",
       "      <th>4</th>\n",
       "      <td>5.0</td>\n",
       "      <td>3.6</td>\n",
       "      <td>1.4</td>\n",
       "      <td>0.2</td>\n",
       "      <td>setosa</td>\n",
       "    </tr>\n",
       "  </tbody>\n",
       "</table>\n",
       "</div>"
      ],
      "text/plain": [
       "   sepal_length  sepal_width  petal_length  petal_width species\n",
       "0           5.1          3.5           1.4          0.2  setosa\n",
       "1           4.9          3.0           1.4          0.2  setosa\n",
       "2           4.7          3.2           1.3          0.2  setosa\n",
       "3           4.6          3.1           1.5          0.2  setosa\n",
       "4           5.0          3.6           1.4          0.2  setosa"
      ]
     },
     "execution_count": 8,
     "metadata": {},
     "output_type": "execute_result"
    }
   ],
   "source": [
    "# Load the iris dataset from Seaborn\n",
    "# Into a pandas DataFrame (table)\n",
    "iris_df: pd.DataFrame = sns.load_dataset(\"iris\")\n",
    "\n",
    "# List column names\n",
    "iris_df.columns\n",
    "\n",
    "# Show a few lines from the start of the dataset\n",
    "iris_df.head()"
   ]
  }
 ],
 "metadata": {
  "kernelspec": {
   "display_name": ".venv",
   "language": "python",
   "name": "python3"
  },
  "language_info": {
   "codemirror_mode": {
    "name": "ipython",
    "version": 3
   },
   "file_extension": ".py",
   "mimetype": "text/x-python",
   "name": "python",
   "nbconvert_exporter": "python",
   "pygments_lexer": "ipython3",
   "version": "3.13.5"
  }
 },
 "nbformat": 4,
 "nbformat_minor": 5
}
